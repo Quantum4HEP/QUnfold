{
 "cells": [
  {
   "cell_type": "code",
   "execution_count": null,
   "id": "3dc69cf9-22c1-4795-9465-d129d67d5f98",
   "metadata": {},
   "outputs": [],
   "source": [
    "import numpy as np\n",
    "from scipy import stats\n",
    "from sklearn.preprocessing import KBinsDiscretizer\n",
    "from qunfold import QUnfolder, QPlotter\n",
    "from qunfold.utils import normalize_response, lambda_optimizer\n",
    "\n",
    "\n",
    "# Set random seed for replicability\n",
    "seed = 42\n",
    "np.random.seed(seed)\n"
   ]
  },
  {
   "cell_type": "code",
   "execution_count": null,
   "id": "1b91f158-5798-46dc-9519-f2ae7587e419",
   "metadata": {},
   "outputs": [],
   "source": [
    "# Create Dask LocalCluster\n",
    "from dask.distributed import LocalCluster, Client\n",
    "\n",
    "cluster = LocalCluster()\n",
    "client = Client(cluster)"
   ]
  },
  {
   "cell_type": "code",
   "execution_count": null,
   "id": "37a83234-f567-4097-8a8b-cca41cec3d46",
   "metadata": {},
   "outputs": [],
   "source": [
    "# Set parameters for synthetic data generation\n",
    "entries = 20000\n",
    "bins = 16\n",
    "xmin, xmax = -3.5, 4.6\n",
    "loc, scale = -2.0, 1.9\n",
    "skewness = 3.6\n",
    "mu_smear, std_smear = -0.08, 0.17\n",
    "efficiency = 0.7  # same for all bins"
   ]
  },
  {
   "cell_type": "code",
   "execution_count": null,
   "id": "db1bbfc8-8887-4738-bd09-a03427968490",
   "metadata": {},
   "outputs": [],
   "source": [
    "# Generate Monte Carlo truth and reco data (with Gaussian smearing)\n",
    "truth_mc_data = stats.skewnorm.rvs(skewness, loc=loc, scale=scale, size=entries)\n",
    "smearing_mc = np.random.normal(mu_smear, std_smear, size=entries)\n",
    "eff_mask_mc = np.random.rand(entries) < efficiency\n",
    "reco_mc_data = (truth_mc_data + smearing_mc)[eff_mask_mc]"
   ]
  },
  {
   "cell_type": "code",
   "execution_count": null,
   "id": "b9a584c9-f82e-47d3-b507-2ce40e01081e",
   "metadata": {},
   "outputs": [],
   "source": [
    "# Generate unknown truth and measured data (with Gaussian smearing)\n",
    "truth_data = stats.skewnorm.rvs(skewness, loc=loc, scale=scale, size=entries)\n",
    "smearing = np.random.normal(mu_smear, std_smear, size=entries)\n",
    "eff_mask = np.random.rand(entries) < efficiency\n",
    "measured_data = (truth_data + smearing)[eff_mask]"
   ]
  },
  {
   "cell_type": "code",
   "execution_count": null,
   "id": "b108df3b-b005-4590-82f1-fa1e94cccd5a",
   "metadata": {},
   "outputs": [],
   "source": [
    "# Define histograms binning by adaptive KMeans algorithm\n",
    "kbd = KBinsDiscretizer(bins, encode=\"ordinal\", strategy=\"kmeans\")\n",
    "kbd.fit(np.clip(measured_data, xmin, xmax).reshape(-1, 1))\n",
    "bin_edges = kbd.bin_edges_[0].tolist()\n",
    "binning = np.array([-np.inf] + bin_edges + [np.inf])  # under/over-flow bins"
   ]
  },
  {
   "cell_type": "code",
   "execution_count": null,
   "id": "3fdf8738-c14f-4d26-be54-3743a543db2a",
   "metadata": {},
   "outputs": [],
   "source": [
    "# Build and normalize response matrix using Monte Carlo\n",
    "response, _, _ = np.histogram2d(reco_mc_data, truth_mc_data[eff_mask_mc], bins=binning)\n",
    "truth_mc, _ = np.histogram(truth_mc_data, bins=binning)\n",
    "response = normalize_response(response, truth_mc=truth_mc)"
   ]
  },
  {
   "cell_type": "code",
   "execution_count": null,
   "id": "78c0af50-45c2-4698-bfeb-f9f97ee768ad",
   "metadata": {},
   "outputs": [],
   "source": [
    "# Define truth and measured histogram\n",
    "truth, _ = np.histogram(truth_data, bins=binning)\n",
    "measured, _ = np.histogram(measured_data, bins=binning)"
   ]
  },
  {
   "cell_type": "code",
   "execution_count": null,
   "id": "069169cd-0a91-453f-be3c-2acd06e04c56",
   "metadata": {},
   "outputs": [],
   "source": [
    "# Find optimal value for regularization parameter lambda\n",
    "#lam = lambda_optimizer(response=response, measured=measured, truth=truth_mc, binning=binning, num_reps=20, seed=seed)\n",
    "lam=0.1"
   ]
  },
  {
   "cell_type": "code",
   "execution_count": null,
   "id": "48bab017-11f3-4f9f-af4a-a33502cc014c",
   "metadata": {},
   "outputs": [],
   "source": [
    "# Run QUnfold algorithm to solve unfolding problem\n",
    "unfolder = QUnfolder(response=response, measured=measured, binning=binning, lam=lam)\n",
    "unfolder.initialize_qubo_model()\n"
   ]
  },
  {
   "cell_type": "code",
   "execution_count": null,
   "id": "6d66fe00-60ce-43d7-88dc-45d5b7a24986",
   "metadata": {
    "scrolled": true
   },
   "outputs": [],
   "source": [
    "num_reads=20000\n",
    "seed=seed\n",
    "\n",
    "sol,cov=unfolder.distributed_simulated_annealing(num_reads, client=client, seed=seed)  # Run on Dask LocalCluster"
   ]
  },
  {
   "cell_type": "code",
   "execution_count": null,
   "id": "f296738c-c0a9-45fc-ad9d-c96bda36a411",
   "metadata": {},
   "outputs": [],
   "source": [
    "plotter = QPlotter(\n",
    "    response=response, measured=measured, truth=truth, unfolded=sol, covariance=cov, binning=binning, method=\"SA\"\n",
    ")"
   ]
  },
  {
   "cell_type": "code",
   "execution_count": null,
   "id": "95c03696-575b-4802-81f1-09c4b5dfe194",
   "metadata": {},
   "outputs": [],
   "source": [
    "plotter.show_response()"
   ]
  },
  {
   "cell_type": "code",
   "execution_count": null,
   "id": "989d7600-f742-4209-99bc-8a8873fcaca3",
   "metadata": {},
   "outputs": [],
   "source": [
    "plotter.show_histograms()"
   ]
  },
  {
   "cell_type": "code",
   "execution_count": null,
   "id": "a4a5ed9b-e2e6-41b7-8ae1-3982a9261de5",
   "metadata": {},
   "outputs": [],
   "source": [
    "# Close Dask client and Cluster\n",
    "client.close()\n",
    "cluster.close()"
   ]
  }
 ],
 "metadata": {
  "kernelspec": {
   "display_name": "Python 3",
   "language": "python",
   "name": "python3"
  },
  "language_info": {
   "codemirror_mode": {
    "name": "ipython",
    "version": 3
   },
   "file_extension": ".py",
   "mimetype": "text/x-python",
   "name": "python",
   "nbconvert_exporter": "python",
   "pygments_lexer": "ipython3",
   "version": "3.11.9"
  }
 },
 "nbformat": 4,
 "nbformat_minor": 5
}
